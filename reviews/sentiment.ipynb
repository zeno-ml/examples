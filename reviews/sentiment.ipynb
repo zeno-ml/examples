{
 "cells": [
  {
   "cell_type": "code",
   "execution_count": 9,
   "metadata": {},
   "outputs": [],
   "source": [
    "from transformers import pipeline\n",
    "import pandas as pd\n",
    "import numpy as np"
   ]
  },
  {
   "cell_type": "code",
   "execution_count": 10,
   "metadata": {},
   "outputs": [
    {
     "name": "stderr",
     "output_type": "stream",
     "text": [
      "No model was supplied, defaulted to distilbert-base-uncased-finetuned-sst-2-english (https://huggingface.co/distilbert-base-uncased-finetuned-sst-2-english)\n"
     ]
    }
   ],
   "source": [
    "classifier = pipeline(\"sentiment-analysis\")"
   ]
  },
  {
   "cell_type": "code",
   "execution_count": 14,
   "metadata": {},
   "outputs": [],
   "source": [
    "df = pd.read_csv(\"amazon_pred.csv\") \n",
    "df.shape\n",
    "d = dict.fromkeys(df.select_dtypes(np.int64).columns, np.int32)\n",
    "df = df.astype(\"object\")"
   ]
  },
  {
   "cell_type": "code",
   "execution_count": 15,
   "metadata": {},
   "outputs": [
    {
     "name": "stdout",
     "output_type": "stream",
     "text": [
      "What a powerful novel. The ending is just . . . Well, it'll stick with me for a long long time. [{'label': 'POSITIVE', 'score': 0.9993682503700256}]\n",
      "Tries to be hip, and isn't. Seems to be put together as a novelty idea. Everyone has an opinion, but I don't see anything here that makes the authors' opinions important. I don't agree with the other reviews. Must be the neighbors writing in. The pros who have been doing it for years and arent looking to be cute and clever do it better. [{'label': 'NEGATIVE', 'score': 0.9984726309776306}]\n",
      "Fu*k this discrace to NIN fu*k it right up it's stupid ass.BTW I like half th bands on here.....or used to. [{'label': 'NEGATIVE', 'score': 0.9991080164909363}]\n",
      "This is written by a part time gamer who simply likes to enjoy a game. I find most games are far too difficult for the part time gamer even on the easy setting. All games should have a \"Very Easy\" option. I suspect that there are many others like me who would buy more games if they were not so difficult.The game was fine until Act 3 and then it became unplayable for me because it was too difficult. I thought the rest of the game was great. Because this was frustrating rather than fun I give it a 1 star. If they had a Very Easy selection so that I could actually play the game I would have given it 5 stars..I bought the Guide from Amazon and it helped a lot. I would now rate it 5 stars but Amazon does not seem to allow me to change my rating. [{'label': 'NEGATIVE', 'score': 0.911322832107544}]\n",
      "I used it on my 1990 Jeep Cherokee. The headliner was like a tent falling. I took out and prepped the headliner board. Then sprayed on the glue as per the directions \"onto foam backing and also onto headliner board\", let it sit for the time stated, spread the new headliner on and it has been perfect ever since. Did it at the end of winter \"Jan 2010\" and it went through a lot of 100+ days during the summer and never came undone. But if you don't follow the directions and put it one before the allotted time it may fail. That is why there are directions on the back of the can. It is a chemical and needs to cure for a certain amount of time so it will adhere to both parts being glued.I love how it came out and I think this glue is excellent. [{'label': 'POSITIVE', 'score': 0.9879776239395142}]\n"
     ]
    }
   ],
   "source": [
    "for i in range(0, 5):\n",
    "    print(df.loc[i, \"content\"], classifier(df.loc[i, \"content\"]))\n",
    "# classifier(\"We are very happy to show you the 🤗 Transformers library.\")"
   ]
  },
  {
   "cell_type": "code",
   "execution_count": 16,
   "metadata": {},
   "outputs": [],
   "source": [
    "df.to_parquet(\"amazon_pred.parquet\")"
   ]
  },
  {
   "cell_type": "code",
   "execution_count": null,
   "metadata": {},
   "outputs": [],
   "source": []
  }
 ],
 "metadata": {
  "interpreter": {
   "hash": "40d3a090f54c6569ab1632332b64b2c03c39dcf918b08424e98f38b5ae0af88f"
  },
  "kernelspec": {
   "display_name": "Python 3.8.5 64-bit ('base': conda)",
   "language": "python",
   "name": "python3"
  },
  "language_info": {
   "codemirror_mode": {
    "name": "ipython",
    "version": 3
   },
   "file_extension": ".py",
   "mimetype": "text/x-python",
   "name": "python",
   "nbconvert_exporter": "python",
   "pygments_lexer": "ipython3",
   "version": "3.8.12"
  },
  "orig_nbformat": 4
 },
 "nbformat": 4,
 "nbformat_minor": 2
}
