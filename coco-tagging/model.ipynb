{
 "cells": [
  {
   "cell_type": "code",
   "execution_count": null,
   "metadata": {},
   "outputs": [],
   "source": [
    "from torchvision.models import resnet18\n",
    "import torch\n",
    "import sys\n",
    "\n",
    "from torchvision import transforms\n",
    "from PIL import Image\n",
    "import pandas as pd\n",
    "import numpy as np\n",
    "from pycocotools.coco import COCO\n"
   ]
  },
  {
   "cell_type": "code",
   "execution_count": null,
   "metadata": {},
   "outputs": [],
   "source": [
    "preprocess = transforms.Compose([\n",
    "    transforms.Resize(256),\n",
    "    transforms.CenterCrop(224),\n",
    "    transforms.ToTensor(),\n",
    "    transforms.Normalize(mean=[0.485, 0.456, 0.406], std=[0.229, 0.224, 0.225]),\n",
    "])"
   ]
  },
  {
   "cell_type": "code",
   "execution_count": null,
   "metadata": {},
   "outputs": [],
   "source": [
    "def get_model(out_features = 1, mode = 'tune', parent = 'pretrained', randomize = False):\n",
    "    # Load the model\n",
    "    model = resnet18(pretrained = (parent == 'pretrained'))\n",
    "    # Change the classification layer\n",
    "    model.fc = torch.nn.Linear(in_features = 512, out_features = out_features)\n",
    "    # Load the in the parent model weights\n",
    "    if parent != 'pretrained':\n",
    "        model.load_state_dict(torch.load(parent, map_location=torch.device('cpu')))\n",
    "    if randomize:\n",
    "        model.fc = torch.nn.Linear(in_features = 512, out_features = out_features)\n",
    "    # Setup the trainable parameters\n",
    "    if mode == 'tune':\n",
    "        return model, model.parameters()\n",
    "    elif mode == 'transfer':\n",
    "        for param in model.parameters():\n",
    "            param.requires_grad = False\n",
    "        model.fc.weight.requires_grad = True\n",
    "        model.fc.bias.requires_grad = True\n",
    "        return model, model.fc.parameters()\n",
    "    elif mode == 'eval':\n",
    "        for param in model.parameters():\n",
    "            param.requires_grad = False\n",
    "        model.eval()\n",
    "        return model\n",
    "    else:\n",
    "        print('ResNet.py: Could not determine trainable parameters')\n",
    "        sys.exit(0)"
   ]
  },
  {
   "cell_type": "code",
   "execution_count": null,
   "metadata": {},
   "outputs": [],
   "source": [
    "m = get_model(out_features=80, mode = 'eval', parent='../../../model.pt')"
   ]
  },
  {
   "cell_type": "code",
   "execution_count": null,
   "metadata": {},
   "outputs": [],
   "source": [
    "img = Image.open(\"/Users/acabrera/dev/data/coco-2017/val2017/000000174482.jpg\")"
   ]
  },
  {
   "cell_type": "code",
   "execution_count": null,
   "metadata": {},
   "outputs": [],
   "source": [
    "img.show()"
   ]
  },
  {
   "cell_type": "code",
   "execution_count": null,
   "metadata": {},
   "outputs": [],
   "source": [
    "img_t = preprocess(img)"
   ]
  },
  {
   "cell_type": "code",
   "execution_count": null,
   "metadata": {},
   "outputs": [],
   "source": [
    "o = m(img_t.unsqueeze(0)).numpy()"
   ]
  },
  {
   "cell_type": "code",
   "execution_count": null,
   "metadata": {},
   "outputs": [],
   "source": [
    "o.squeeze()"
   ]
  },
  {
   "cell_type": "code",
   "execution_count": null,
   "metadata": {},
   "outputs": [],
   "source": [
    "np.argwhere(o > 0)"
   ]
  },
  {
   "cell_type": "code",
   "execution_count": null,
   "metadata": {},
   "outputs": [],
   "source": [
    "coco = COCO(\"/Users/acabrera/dev/data/coco-2017/instances_val2017.json\")"
   ]
  },
  {
   "cell_type": "code",
   "execution_count": null,
   "metadata": {},
   "outputs": [],
   "source": [
    "cats = coco.loadCats(coco.getCatIds())\n",
    "indices = [int(x['id']) for x in cats]\n",
    "names = [x['name'].replace(' ', '+') for x in cats]\n",
    "name2index = {}\n",
    "for i, v in enumerate(names):\n",
    "\tname2index[v] = i\n",
    "index2name = list(name2index)"
   ]
  },
  {
   "cell_type": "code",
   "execution_count": null,
   "metadata": {},
   "outputs": [],
   "source": [
    "print(index2name)"
   ]
  },
  {
   "cell_type": "code",
   "execution_count": null,
   "metadata": {},
   "outputs": [],
   "source": [
    "imgs = coco.loadImgs(coco.getImgIds())\n",
    "imgs"
   ]
  },
  {
   "cell_type": "code",
   "execution_count": null,
   "metadata": {},
   "outputs": [],
   "source": [
    "df = pd.DataFrame.from_dict(imgs)\n",
    "df.set_index('id', inplace=True)\n",
    "for col in index2name:\n",
    "\tdf[col] = 0\n",
    "df.head()"
   ]
  },
  {
   "cell_type": "code",
   "execution_count": null,
   "metadata": {},
   "outputs": [],
   "source": [
    "for img in imgs:\n",
    "\tanns = coco.loadAnns(coco.getAnnIds(img['id'], iscrowd = None))\n",
    "\tlabel = np.zeros((91))  # Each 'label' vector is large enough for easy indexing, but this means it contains unused indices\n",
    "\tfor ann in anns:\n",
    "\t\tlabel[ann['category_id']] = 1.0\n",
    "\tlabel = label[indices] # Remove the unused indices\n",
    "\tdf.at[img['id'], 'label'] = '['\n",
    "\tfor i, lab in enumerate(label):\n",
    "\t\tif lab > 0:\n",
    "\t\t\tdf.at[img['id'], 'label'] = df.at[img['id'], 'label'] + index2name[i] + ','\n",
    "\t\t\tdf.at[img['id'], index2name[i]] = df.at[img['id'], index2name[i]] + 1\n",
    "\tdf.at[img['id'], 'label'] = df.at[img['id'], 'label'] + ']'\t\n",
    "\tdf.at[img['id'], 'nplabel'] = label.tobytes()"
   ]
  },
  {
   "cell_type": "code",
   "execution_count": null,
   "metadata": {},
   "outputs": [],
   "source": [
    "df.head()"
   ]
  },
  {
   "cell_type": "code",
   "execution_count": null,
   "metadata": {},
   "outputs": [],
   "source": [
    "df.to_csv('coco-tagging.csv')"
   ]
  },
  {
   "cell_type": "code",
   "execution_count": null,
   "metadata": {},
   "outputs": [],
   "source": []
  }
 ],
 "metadata": {
  "kernelspec": {
   "display_name": "Python 3.9.13 ('.venv': poetry)",
   "language": "python",
   "name": "python3"
  },
  "language_info": {
   "codemirror_mode": {
    "name": "ipython",
    "version": 3
   },
   "file_extension": ".py",
   "mimetype": "text/x-python",
   "name": "python",
   "nbconvert_exporter": "python",
   "pygments_lexer": "ipython3",
   "version": "3.9.13"
  },
  "orig_nbformat": 4,
  "vscode": {
   "interpreter": {
    "hash": "59d606a796fde3c997548ee5ab3f3009081de8aa2fb58c2406e58b3c7613e786"
   }
  }
 },
 "nbformat": 4,
 "nbformat_minor": 2
}
